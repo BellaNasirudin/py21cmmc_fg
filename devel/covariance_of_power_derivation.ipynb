{
 "cells": [
  {
   "cell_type": "markdown",
   "metadata": {},
   "source": [
    "# Derivation of Covariance of Weighted Power"
   ]
  },
  {
   "cell_type": "markdown",
   "metadata": {},
   "source": [
    "Consider an EoR simulation (say from 21cmFAST), without any noise, but having been put through an instrumental setup (i.e. sampled onto chromatic baselines, and then re-gridded). The likelihood of a set of physical parameters is then\n",
    "\n",
    "$$ \\mathcal{L}(\\theta|P_{\\rm obs}) = -\\frac{1}{2}\\sum_{u,\\eta} \\frac{(P(u,\\eta, \\theta) - P^{u,\\eta}_{\\rm obs})^2}{\\sigma^2_P(u,\\eta,\\theta)}. $$"
   ]
  },
  {
   "cell_type": "markdown",
   "metadata": {},
   "source": [
    "Here, the $P(u,\\eta,\\theta)$ and $\\sigma^2$ are determined uniquely by the model and the two scales involved. However, we do not have access to this information, which is why we run a simulation in the first place. Rather, we have an estimate of each, which we shall call $\\bar{P}_{u,\\eta}(\\theta)$ and $s^2_{u,\\eta}(\\theta)$ (from here on we'll drop the explicit dependence on $\\theta$). "
   ]
  },
  {
   "cell_type": "markdown",
   "metadata": {},
   "source": [
    "Now, it is not entirely certain in the first place how to construct the likelihood when the true $P$ and $\\sigma^2$ are unknown. Some work has gone into this, especially in [Sellentin & Heavens (2016)](https://arxiv.org/pdf/1511.05969.pdf). However, it deals only with an unknown $\\sigma^2$, not an unknown mean. Apparently people are working on this currently. Regardless, whether or not we use updated forms, or just simply replace the true values with their estimated counterparts, we require the calculation of the estimated values."
   ]
  },
  {
   "cell_type": "markdown",
   "metadata": {},
   "source": [
    "One obvious way of calculating the estimated values would be to run several simulations per iteration of the MCMC, and manually calculate them. However, this is fairly poor computationally. However, we do have information about the distribution of $P$ within a single simulation, as we form $\\bar{P}_{u,\\eta}$ by summing over bins in the UV plane with $u^2 \\approx u^2 + v^2$. All of these bins are assumed to be statistically equivalent, and therefore tell us something about the distribution of their sum. In what follows, we determine how to calculate these two necessary quantities from the simulation data."
   ]
  },
  {
   "cell_type": "markdown",
   "metadata": {},
   "source": [
    "We note that each grid cell, $P_{u,v,\\eta}$ has an associate weight (from the number of baselines which contribute to it). These weights are calculated for the visibilities, so **there is a possibility that their squares should be used when dealing with power**. Restricting ourselves to one radial bin in the UV plane, which has $N$ cells within it (thus dropping the dependence on $u$ and $\\eta$), and considering each of the cells to be indexed by a single number within this bin, we have that\n",
    "\n",
    "$$ \\bar{P} = \\frac{1}{\\sum w_i} \\sum w_i P_i \\equiv \\frac{1}{V_1} \\sum w_i P_i. $$\n",
    "\n",
    "This is unbiased because $E[\\bar{P}] = E[P] = \\mu$."
   ]
  },
  {
   "cell_type": "markdown",
   "metadata": {},
   "source": [
    "**Remember to do MSE... need to know how wrong \\bar{P} could be...**\n",
    "\n",
    "Now, we need to calculate the estimated variance. We can at once write down\n",
    "\n",
    "$$ {\\rm Var}(\\bar{P}) = \\frac{1}{V_1^2} \\sum w_i^2 {\\rm Var}(P_i), $$\n",
    "\n",
    "since the weights are not stochastic (we know them if we know the instrument). However, ${\\rm Var}(P_i)$ is a constant w.r.t $i$ because the cells are statistically equivalent. We call this $s_p^2$, and write\n",
    "\n",
    "$$ {\\rm Var}(\\bar{P}) = \\frac{s_p^2 \\sum w_i^2}{V_1^2} \\equiv \\frac{s_p^2 V_2}{V_1^2} $$\n"
   ]
  },
  {
   "cell_type": "markdown",
   "metadata": {},
   "source": [
    "Here we can pause and consider the case that all the weights are unity. Then we get that ${\\rm Var}(\\bar{P}) = s^2_p/N$, which is just the usual standard error on the mean."
   ]
  },
  {
   "cell_type": "markdown",
   "metadata": {},
   "source": [
    "However, we still need to know how to calculate $s_p^2$. "
   ]
  },
  {
   "cell_type": "markdown",
   "metadata": {},
   "source": [
    "To calculate the weighted $s_p^2$, we follow [the Wikipedia article on weighted variance](https://en.wikipedia.org/wiki/Weighted_arithmetic_mean#Reliability_weights). I have checked this calculation analytically, and it is correct when an *estimate* of the weighted mean is used. \n",
    "\n",
    "That is, we use\n",
    "\n",
    "$$ s_p^2 = \\frac{\\sum_i w_i (P_i - \\bar{P})^2}{V_1 - \\frac{V_2}{V_1}}. $$"
   ]
  },
  {
   "cell_type": "markdown",
   "metadata": {},
   "source": [
    "## Derivation of Covariance of Foreground Power"
   ]
  },
  {
   "cell_type": "markdown",
   "metadata": {},
   "source": [
    "In this section, let's try to derive an exact analytical expression for the covariance of the foreground power spectrum, understanding that it will be independent of both instrument power and signal. In general, we cannot derive ${\\bf C}_{\\rm FG}$ without knowing the exact baseline layout, but I have shown in my wedge/window paper that the layout has a minimal effect, at least on the expectation of the power, unless it is very tightly packed. \n",
    "\n",
    "So, first up, let's assume a delay transform -- i.e. each baseline contributes uniquely to the estimate of the power in one UV bin, and that UV bin is labelled as the baseline at some reference frequency $\\nu_0$. \n",
    "\n",
    "In the following, anything with an over-tilde is a *statistical* quantity."
   ]
  },
  {
   "cell_type": "markdown",
   "metadata": {},
   "source": [
    "We have\n",
    "\n",
    "\\begin{align}\n",
    "{\\rm Cov}[\\tilde{P}_{u\\eta}, \\tilde{P}_{u'\\eta'}] &= {\\rm Cov}\\left[\\sum_{|{\\bf u}|=u} \\tilde{P}_{uv\\eta}, \\sum_{|{\\bf u'}|=u'} \\tilde{P}_{u'v'\\eta'} \\right] \\\\\n",
    "&= \\sum_{|{\\bf u}|=u} \\sum_{|{\\bf u'}|=u'} {\\rm Cov} \\left[\\tilde{P}_{uv\\eta}, \\tilde{P}_{u'v'\\eta'} \\right] \\\\\n",
    "&= \\sum_{|{\\bf u}|=u} \\sum_{|{\\bf u'}|=u'} {\\rm Cov} \\left[\\tilde{V}_{uv\\eta} \\tilde{V}^\\dagger_{uv\\eta}, \\tilde{V}_{u'v'\\eta'} \\tilde{V}^\\dagger_{u'v'\\eta'} \\right] \\\\\n",
    "&= (\\Delta \\nu)^4 \\sum_{|{\\bf u}|=u} \\sum_{|{\\bf u'}|=u'} \\sum_{\\nu_0}\\sum_{\\nu_1}\\sum_{\\nu'_0}\\sum_{\\nu'_1} e^{i\\eta(\\nu_0 - \\nu_1) + i\\eta'(\\nu'_0 - \\nu'_1)} W(\\nu_0)W(\\nu_1)W(\\nu'_0)W(\\nu'_1) {\\rm Cov} \\left[\\tilde{V}_{uv\\nu_0} \\tilde{V}^\\dagger_{uv\\nu_1}, \\tilde{V}_{u'v'\\nu'_0} \\tilde{V}^\\dagger_{u'v'\\nu'_1} \\right] \\\\\n",
    "\\end{align}"
   ]
  },
  {
   "cell_type": "markdown",
   "metadata": {},
   "source": [
    "This is pretty gross so far, but tells us how to compute the covariance given the covariance of the frequency-space visibility products. Now,\n",
    "\n",
    "\\begin{align}\n",
    "{\\rm Cov} \\left[\\tilde{V}_{uv\\nu_0} \\tilde{V}^\\dagger_{uv\\nu_1}, \\tilde{V}_{u'v'\\nu'_0} \\tilde{V}^\\dagger_{u'v'\\nu'_1} \\right] &= (d\\Omega)^4 \\sum_{\\mathbf{l}_0,\\mathbf{l}_1, \\mathbf{l}'_0, \\mathbf{l}'_1} e^{-2\\pi i \\mathbf{u}(\\nu_0 \\mathbf{l}_0-\\nu_1 \\mathbf{l}_1)} e^{2\\pi i\\mathbf{u}'(\\nu'_0 \\mathbf{l}'_0 - \\nu'_1 \\mathbf{l}'_1)} B_{00} B_{11} B'_{00} B'_{11} {\\rm Cov}\\left[\\tilde{S}_{00} \\tilde{S}_{11}, \\tilde{S}'_{00} \\tilde{S}'_{11}\\right]\\\\\n",
    "&= (d\\Omega)^4 \\sum_{\\mathbf{l}_0,\\mathbf{l}_1, \\mathbf{l}'_0, \\mathbf{l}'_1} \\sum_{S_0S_1S'_0S'_1} S_0 S_1 S'_0 S'_1 (f_0 f_1 f'_0 f'_1)^{-\\gamma} e^{-2\\pi i \\mathbf{u}(\\nu_0 \\mathbf{l}_0-\\nu_1 \\mathbf{l}_1)} e^{2\\pi i\\mathbf{u}'(\\nu'_0 \\mathbf{l}'_0 - \\nu'_1 \\mathbf{l}'_1)} B_{00} B_{11} B'_{00} B'_{11}  {\\rm Cov}\\left[\\tilde{N}_0\\tilde{N}_1, \\tilde{N}'_0\\tilde{N}'_1\\right]\n",
    "\\end{align}\n",
    "\n",
    "where $B_{xy} = B(\\mathbf{l}_x, \\nu_y)$ and similarly for $\\tilde{S}$. Also, $\\tilde{N}_x \\equiv \\tilde{\\frac{dN}{dS}}(\\mathbf{l}_x, S_x)$."
   ]
  },
  {
   "cell_type": "markdown",
   "metadata": {},
   "source": [
    "Now, for most combinations of $\\mathbf{l}_i, S_i$, the covariance of the counts-pairs will be zero. To be non-zero, at least one of the counts in each pair must be from the same voxel, i.e. from the same $\\mathbf{l}$ pixel, and have $S_x = S_y$. We first turn to computing the covariance of the count-pairs under different combinations."
   ]
  },
  {
   "cell_type": "markdown",
   "metadata": {},
   "source": [
    "### Covariance of Poisson-pairs"
   ]
  },
  {
   "cell_type": "markdown",
   "metadata": {},
   "source": [
    "In the following, let $X$, $Y$ and $Z$ be independent Poisson-distributed variables with mean $\\lambda_{x,y,z}$ respectively. We make heavy use of the fact that for Poisson variables, the moments of the distribution are defined by a Touchard polynomial:\n",
    "\n",
    "$$ E[X^n] = T_n(\\lambda).$$\n",
    "\n",
    "Explicitly the first few moments are:\n",
    "\n",
    "\\begin{align}\n",
    "E[X] &= \\lambda \\\\\n",
    "E[X^2] &= \\lambda(\\lambda + 1) \\\\\n",
    "E[X^3] &= \\lambda(\\lambda^2 + 3\\lambda + 1) \\\\\n",
    "E[X^4] &= \\lambda(\\lambda^3 + 6\\lambda^2 + 7\\lambda + 1).\n",
    "\\end{align}\n",
    "\n",
    "With this, we have the following:\n",
    "\n",
    "For combinations where each pair is completely different to the other, the covariance is zero:\n",
    "\\begin{align}\n",
    "{\\rm Cov}[XX, YZ] = 0.\n",
    "\\end{align}\n",
    "\n",
    "Otherwise:\n",
    "\\begin{align}\n",
    "{\\rm Cov}[XX, XX] &= E[X^4] - E[X^2]^2 \\\\\n",
    "&= \\lambda_x(\\lambda_x^3 + 6\\lambda_x^2 + 7\\lambda_x + 1) - \\lambda_x(\\lambda_x + 1) \\\\ \n",
    "&= \\lambda_x(\\lambda_x^3 + 6\\lambda_x^2 + 6\\lambda_x). \\\\ \\\\\n",
    "{\\rm Cov}[XX, XY] &= E[X^3]E[Y] - E[X^2]E[X]E[Y] \\\\\n",
    "&= \\lambda_x\\lambda_y(\\lambda_x^2 + 3\\lambda_x + 1) - \\lambda_x^2\\lambda_y(\\lambda_x + 1) \\\\\n",
    "&= \\lambda_x\\lambda_y(2\\lambda_x + 1). \\\\ \\\\\n",
    "{\\rm Cov}[XY, XY] &= E[X^2]E[Y^2] - E[X]^2E[Y]^2 \\\\\n",
    "&= \\lambda_x(\\lambda_x + 1)\\lambda_y(\\lambda_y + 1) - \\lambda_x^2\\lambda_y^2 \\\\\n",
    "&= \\lambda_x\\lambda_y(1 + \\lambda_y + \\lambda_x). \\\\ \\\\\n",
    "{\\rm Cov}[XY, XZ] &= E[X^2]E[Y]E[Z] - E[X]^2E[Y]E[Z] \\\\\n",
    "&= \\lambda_x\\lambda_y\\lambda_z(\\lambda_x + 1) - \\lambda_x^2\\lambda_y\\lambda_z \\\\\n",
    "&= \\lambda_x\\lambda_y\\lambda_z.\n",
    "\\end{align}"
   ]
  },
  {
   "cell_type": "markdown",
   "metadata": {},
   "source": [
    "### Continuation of Derivation"
   ]
  },
  {
   "cell_type": "markdown",
   "metadata": {},
   "source": [
    "Now, we need to add this information into our total covariance. We'll write $N$ (with no tilde) to indicate the mean value of the count distribution.The covariance splits into a sum of several terms, each of which has a different form for the covariance, given above. Writing this out is non-trivial, because each term needs to be checked against previous terms to check whether it is double counting, and also terms can be nested. \n",
    "\n",
    "In arbitrary order, we find:\n",
    "\n",
    "\\begin{align}\n",
    "\\frac{\\mathbf{C}_{VV}}{(d\\Omega)^4} &= \\sum_{\\mathbf{l}_0,\\mathbf{l}_1, \\mathbf{l}'_0, \\mathbf{l}'_1}\\sum_{S_0S_1S'_0S'_1} S_0 S_1 S'_0 S'_1 (f_0 f_1 f'_0 f'_1)^{-\\gamma} e^{-2\\pi i \\mathbf{u}(\\nu_0 \\mathbf{l}_0-\\nu_1 \\mathbf{l}_1)} e^{2\\pi i\\mathbf{u}'(\\nu'_0 \\mathbf{l}'_0 - \\nu'_1 \\mathbf{l}'_1)} B_{00} B_{11} B'_{00} B'_{11} \\mathcal{Q},\n",
    "\\end{align}\n",
    "\n",
    "where\n",
    "\n",
    "\\begin{alignat}{2}\n",
    "\\mathcal{Q} = &\\delta_{0'0} \\bigg[ && N_0N_1N'_1 \\\\\n",
    "    & && + \\delta_{1'0} \\big[ N_1N_0(2N_0+1) - N_0^2 N_1  \\\\\n",
    "    & && \\quad\\quad +  \\delta_{01}\\{N_0(N_0^3+6N_0^2+6N_0) - N_0^2(2N_0+1)\\}\\big] \\\\\n",
    "    & && + \\delta_{1'1}\\big[ N-0N_1(1+N_0+N_1) - N_0^2N_1 \\\\\n",
    "    & && \\quad\\quad -  \\delta_{01}\\{N_0^2(1+2N_0) - N_0^3\\}\\big] \\\\\n",
    "    & && +\\delta_{10}\\big[ N_0N_1'(2N_0+1) - N_0^2N_1' \\\\\n",
    "    & && \\quad\\quad - \\delta_{1'0}\\{N_0^2(1+2N_0) - N_0^3\\}\\big]\\bigg] \\\\\n",
    "    & + \\delta_{1'0} \\bigg[&& N_0N_1N'_0 - \\delta_{0'0}N_0^2N_1 \\\\\n",
    "    & && + \\delta_{0'1}\\big[ N_0N_1(1+N_0+N_1) - N_0N_1^2 \\\\\n",
    "    & && \\quad\\quad -\\delta_{10} \\{N_0^2(1+2N_0)-N_0^3\\}\\big] \\\\\n",
    "    & && + \\delta_{10}\\big[N_0N'_0(1+2N_0) - N_0^2N'_0 \\\\\n",
    "    & && \\quad\\quad - \\delta_{0'0}\\{N_0^2(1+2N_0) - N_0^3\\}\\big]\\bigg] \\\\\n",
    "    & + \\delta_{1'1} \\bigg[&& N_0N_1N'_0 - \\delta_{0'0} N_0^2N_1 - \\delta_{1'0}\\{N_0^2N'_0 - \\delta_{0'0} N_0^3\\} \\\\\n",
    "    & && + \\delta_{0'1}\\big[N_1N_0(2N_1+1) - N_0N_1^2 \\\\\n",
    "    & && \\quad\\quad - \\delta_{10}\\{N_0^2(2N_0+1) - N_0^3\\} \\big]\\bigg] \\\\\n",
    "    & +\\delta_{0'1} \\bigg[&& N_0N_1N'_1 - \\delta_{0'0} N_0N_1N'1 - \\delta_{1'0}\\{N_0^2N_1 - \\delta_{10}N_0^3\\} \\\\\n",
    "    & && \\quad - \\delta_{1'1}\\{N_0N_1^2 - \\delta_{10} N_0^3\\}\\bigg]\n",
    "\\end{alignat}"
   ]
  },
  {
   "cell_type": "markdown",
   "metadata": {},
   "source": [
    "Doing a simple simplification:\n",
    "\n",
    "\\begin{alignat}{2}\n",
    "\\mathcal{Q} = &\\delta_{0'0} \\bigg[ && N_0N_1N'_1 \\\\\n",
    "    & && + \\delta_{1'0} \\big[ N_1N_0(N_0+1)  \\\\\n",
    "    & && \\quad\\quad +  \\delta_{01}\\{N_0(N_0^3+4N_0^2+5N_0)\\}\\big] \\\\\n",
    "    & && + \\delta_{1'1}\\big[ N-0N_1(1+N_1) \\\\\n",
    "    & && \\quad\\quad -  \\delta_{01}\\{N_0^2(1+N_0)\\}\\big] \\\\\n",
    "    & && +\\delta_{10}\\big[ N_0N_1'(N_0+1) \\\\\n",
    "    & && \\quad\\quad - \\delta_{1'0}\\{N_0^2(1+N_0)\\}\\big]\\bigg] \\\\\n",
    "    & + \\delta_{1'0} \\bigg[&& N_0N_1N'_0 - \\delta_{0'0}N_0^2N_1 \\\\\n",
    "    & && + \\delta_{0'1}\\big[ N_0N_1(1+N_0) \\\\\n",
    "    & && \\quad\\quad -\\delta_{10} \\{N_0^2(1+N_0)\\}\\big] \\\\\n",
    "    & && + \\delta_{10}\\big[N_0N'_0(1+N_0) \\\\\n",
    "    & && \\quad\\quad - \\delta_{0'0}\\{N_0^2(1+N_0) \\}\\big]\\bigg] \\\\\n",
    "    & + \\delta_{1'1} \\bigg[&& N_0N_1N'_0 - \\delta_{0'0} N_0^2N_1 - \\delta_{1'0}\\{N_0^2N'_0 - \\delta_{0'0} N_0^3\\} \\\\\n",
    "    & && + \\delta_{0'1}\\big[N_1N_0(N_1+1) \\\\\n",
    "    & && \\quad\\quad - \\delta_{10}\\{N_0^2(N_0+1)\\} \\big]\\bigg] \\\\\n",
    "    & +\\delta_{0'1} \\bigg[&& N_0N_1N'_1 - \\delta_{0'0} N_0N_1N'1 - \\delta_{1'0}\\{N_0^2N_1 - \\delta_{10}N_0^3\\} \\\\\n",
    "    & && \\quad - \\delta_{1'1}\\{N_0N_1^2 - \\delta_{10} N_0^3\\}\\bigg]\n",
    "\\end{alignat}"
   ]
  },
  {
   "cell_type": "code",
   "execution_count": null,
   "metadata": {},
   "outputs": [],
   "source": []
  }
 ],
 "metadata": {
  "kernelspec": {
   "display_name": "Python [conda env:21CMMC]",
   "language": "python",
   "name": "conda-env-21CMMC-py"
  },
  "language_info": {
   "codemirror_mode": {
    "name": "ipython",
    "version": 3
   },
   "file_extension": ".py",
   "mimetype": "text/x-python",
   "name": "python",
   "nbconvert_exporter": "python",
   "pygments_lexer": "ipython3",
   "version": "3.6.5"
  }
 },
 "nbformat": 4,
 "nbformat_minor": 2
}
