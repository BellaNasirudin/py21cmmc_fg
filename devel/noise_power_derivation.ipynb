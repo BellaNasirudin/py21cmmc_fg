{
 "cells": [
  {
   "cell_type": "markdown",
   "metadata": {},
   "source": [
    "# Derivation of Expectation and Variance of Power from Thermal Noise"
   ]
  },
  {
   "cell_type": "markdown",
   "metadata": {},
   "source": [
    "For the general likelihood of the 2D power (or even 1D power), one needs to know the contribution to the power (and its uncertainty) from thermal noise. In fact, of course, the thermal noise is added in a non-Gaussian manner (same as everything else, really) because it is strictly positive. However, we assume that it is at least *close* to Gaussian, so that we can describe it purely by its mean and variance.\n",
    "\n",
    "Since the thermal noise is independent of everything else, we can *just* deal with it, and neglect everything else, then add it in at the end. So let's begin.\n",
    "\n",
    "Let every noise visibility, at frequency $\\nu$, be called $V_{i,nu}$ (we don't label it for being noise, as we won't deal with any other type of visibility in this document). Then the visibility of a $uv\\nu$ grid cell is\n",
    "\n",
    "\\begin{equation}\n",
    "    V_{uv\\nu} = \\frac{1}{n_{uv\\nu}}\\sum_i V_{i,\\nu} \\delta_{u_i,v_i \\sim uv},\n",
    "\\end{equation}\n",
    "\n",
    "where the $\\delta$ function really just means \"only count baselines in the $uv$ cell\", and $n_{uv\\nu}$ is just the number of baselines in the $uv$ cell at that frequency. Then of course the fourier-space visibility is \n",
    "\n",
    "\\begin{equation}\n",
    "    V_{uv\\eta} = \\Delta\\nu \\sum e^{-2\\pi i \\eta \\nu} V_{uv\\nu} \\phi_\\nu,\n",
    "\\end{equation}\n",
    "\n",
    "where $\\phi_\\nu$ is some applied taper and $\\Delta\\nu$ is the frequency channel width.\n",
    "\n",
    "Thus we can get the expectation and variance of $V_{uv\\eta}$:\n",
    "\n",
    "\\begin{align}\n",
    "    \\langle V_{uv\\eta} \\rangle &= 0, \\\\\n",
    "    {\\rm Var}(V_{uv\\eta}) &= \\sigma^2 \\sum_\\nu \\frac{(\\Delta\\nu)^2 \\phi_\\nu^2}{n_{uv\\nu}} \\equiv \\sigma^2 / \\tilde{n}_{uv}.\n",
    "\\end{align}\n",
    "\n",
    "With $\\tilde{n}_{uv} = \\left[\\sum_\\nu \\frac{(\\Delta\\nu)^2 \\phi_\\nu^2}{n_{uv\\nu}}\\right]^{-1}$ an \"effective\" number of baselines in a $uv\\eta$ cell."
   ]
  },
  {
   "cell_type": "markdown",
   "metadata": {},
   "source": [
    "Now then, we have $P_{uv\\eta} = |V_{uv\\eta}|^2$, and we need to evaluate the mean and variance of the power. For this, we simply use the relation that the mean and variance of a Gaussian variable squared are $\\sigma^2$ and $2\\sigma^4$ respectively, so:\n",
    "\n",
    "\\begin{align}\n",
    "    \\langle P_{uv\\eta} \\rangle &= \\sigma^2 / \\tilde{n}_{uv}, \\\\\n",
    "    {\\rm Var}(P_{uv\\eta}) &= 2 \\sigma^4 / \\tilde{n}^2_{uv}.\n",
    "\\end{align}"
   ]
  },
  {
   "cell_type": "markdown",
   "metadata": {},
   "source": [
    "Now, the power spectrum is circularly averaged. When doing this, we are careful to use the weights of each grid point, which is properly the inverse of the standard deviation of each bin:\n",
    "\n",
    "\\begin{equation}\n",
    "    P_{u\\eta} = \\frac{\\sum P_{uv\\eta} w_{uv\\eta}}{\\sum w_{uv\\eta}},\n",
    "\\end{equation}\n",
    "\n",
    "where the sum is over all cells within an annulus, and \n",
    "\n",
    "\\begin{equation}\n",
    "    w_{uv\\eta}  = \\frac{\\tilde{n}_{uv}}{\\sqrt{2} \\sigma^2}.\n",
    "\\end{equation}"
   ]
  },
  {
   "cell_type": "markdown",
   "metadata": {},
   "source": [
    "Thus we have\n",
    "\n",
    "\\begin{equation}\n",
    "    P_{u\\eta} = \\frac{\\sum \\tilde{n}_{uv} P_{uv\\eta} }{\\sum  \\tilde{n}_{uv}}.\n",
    "\\end{equation}"
   ]
  },
  {
   "cell_type": "markdown",
   "metadata": {},
   "source": [
    "Finally, we need to calculate the mean and variance of this quantity:\n",
    "\n",
    "\\begin{align}\n",
    "    \\langle P_{u\\eta} \\rangle &= \\frac{\\sum \\sigma^2}{\\sum \\tilde{n}_{uv}} \\\\\n",
    "    &=\\sigma^2 \\frac{n_u}{\\sum \\tilde{n}_{uv}},\n",
    "\\end{align}\n",
    "\n",
    "where $n_u$ is the number of $uv$ cells in the $u$ annulus. This averages down roughly as $1/\\bar{n}_{uv}$. Then the variance:\n",
    "\n",
    "\\begin{align}\n",
    "    {\\rm Var}(P_{u\\eta}) &= \\frac{2\\sigma^4 n_u}{(\\sum \\tilde{n}_{uv})^2}.\n",
    "\\end{align}"
   ]
  },
  {
   "cell_type": "code",
   "execution_count": null,
   "metadata": {},
   "outputs": [],
   "source": []
  }
 ],
 "metadata": {
  "kernelspec": {
   "display_name": "Python [conda env:py21cmmc_fg]",
   "language": "python",
   "name": "conda-env-py21cmmc_fg-py"
  },
  "language_info": {
   "codemirror_mode": {
    "name": "ipython",
    "version": 3
   },
   "file_extension": ".py",
   "mimetype": "text/x-python",
   "name": "python",
   "nbconvert_exporter": "python",
   "pygments_lexer": "ipython3",
   "version": "3.7.0"
  }
 },
 "nbformat": 4,
 "nbformat_minor": 2
}
